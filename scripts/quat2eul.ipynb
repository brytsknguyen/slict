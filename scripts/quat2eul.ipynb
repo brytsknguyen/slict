{
 "cells": [
  {
   "cell_type": "code",
   "execution_count": 1,
   "metadata": {},
   "outputs": [
    {
     "name": "stdout",
     "output_type": "stream",
     "text": [
      "(1.3307017332881854, -0.013360711580116102, 3.0927414176172916)\n",
      "76.24359310815635\n",
      "-0.765512384832218\n",
      "177.201030354778\n"
     ]
    }
   ],
   "source": [
    "import numpy as np\n",
    "import myutil.myutil as util\n",
    "\n",
    "ypr = util.quat2eul(np.array([0.015090541998499, 0.786548738110009, 0.61700892793487, 0.020330788681362]))\n",
    "                    \n",
    "print(ypr)\n",
    "print(ypr[0]/np.pi*180)\n",
    "print(ypr[1]/np.pi*180)\n",
    "print(ypr[2]/np.pi*180)\n"
   ]
  },
  {
   "cell_type": "code",
   "execution_count": 2,
   "metadata": {},
   "outputs": [
    {
     "name": "stdout",
     "output_type": "stream",
     "text": [
      "[175.  -0.   0.]\n"
     ]
    },
    {
     "data": {
      "text/plain": [
       "array([[186.59726244],\n",
       "       [  8.57126897],\n",
       "       [ -0.41      ]])"
      ]
     },
     "execution_count": 2,
     "metadata": {},
     "output_type": "execute_result"
    }
   ],
   "source": [
    "# NTU day 01 init pose\n",
    "R_W_L1 = util.eul2rotm(-41*np.pi/180, 0, 0)\n",
    "t_W_L1 = np.array([49.28, 107.38, 7.58]).reshape((3, 1))\n",
    "T_W_L1 = util.Rt2Tf(R_W_L1, t_W_L1)\n",
    "\n",
    "# NTU night 08 init pose\n",
    "R_W_L8 = util.eul2rotm(134*np.pi/180, 0, 0)\n",
    "t_W_L8 = np.array([195.73, -8.57, 7.17]).reshape((3, 1))\n",
    "T_W_L8 = util.Rt2Tf(R_W_L8, t_W_L8)\n",
    "\n",
    "T_L1_L8 = util.tfmult(util.tfinv(T_W_L1), T_W_L8)\n",
    "R_L1_L8, t_L1_L8 = util.Tf2Rt(T_L1_L8)\n",
    "E_L1_L8 = np.array(util.rotm2eul(R_L1_L8))\n",
    "print(E_L1_L8*180.0/np.pi)\n",
    "t_L1_L8\n"
   ]
  },
  {
   "cell_type": "code",
   "execution_count": 3,
   "metadata": {},
   "outputs": [
    {
     "data": {
      "text/plain": [
       "{'ntu_day_01': [0.0, 0.0, 0.0, 0.0, -0.0, 0.0],\n",
       " 'ntu_day_02': [1.59, 17.55, 0.11, -115.0, -0.0, 0.0],\n",
       " 'ntu_day_03': [2.26, 18.04, 0.12, 57.0, -0.0, 0.0],\n",
       " 'ntu_day_04': [2.53, 6.6, 0.14, 0.0, -0.0, 0.0],\n",
       " 'ntu_day_05': [1.78, 13.05, 0.14, 57.0, -0.0, 0.0],\n",
       " 'ntu_day_06': [-1.63, 0.94, 0.06, 0.0, -0.0, 0.0],\n",
       " 'ntu_day_07': [13.83, -132.34, 1.15, 57.0, -0.0, 0.0],\n",
       " 'ntu_day_08': [53.45, -74.75, -1.02, 115.0, -0.0, 0.0],\n",
       " 'ntu_day_09': [49.47, -22.44, 0.09, 115.0, -0.0, 0.0],\n",
       " 'ntu_day_10': [47.65, -69.74, -1.04, 57.0, -0.0, 0.0],\n",
       " 'ntu_night_01': [7.17, 7.62, 0.24, 0.0, -0.0, 0.0],\n",
       " 'ntu_night_02': [4.26, 5.01, 0.2, 0.0, -0.0, 0.0],\n",
       " 'ntu_night_03': [117.25, 8.4, 1.39, -115.0, -0.0, 0.0],\n",
       " 'ntu_night_04': [283.07, -28.53, -1.61, 0.0, -0.0, 0.0],\n",
       " 'ntu_night_05': [49.14, -1.52, 0.19, -115.0, -0.0, 0.0],\n",
       " 'ntu_night_06': [54.19, -67.31, -0.98, -115.0, -0.0, 0.0],\n",
       " 'ntu_night_07': [1.56, 8.4, 0.17, 0.0, -0.0, 0.0],\n",
       " 'ntu_night_08': [186.6, 8.58, -0.4, 172.0, -0.0, 0.0],\n",
       " 'ntu_night_09': [237.16, 9.14, -0.89, -57.0, -0.0, 0.0],\n",
       " 'ntu_night_10': [322.39, -149.44, -11.27, -115.0, -0.0, 0.0],\n",
       " 'ntu_night_11': [174.59, -252.58, -12.57, 172.0, -0.0, 0.0],\n",
       " 'ntu_night_12': [108.79, -107.64, -5.38, -115.0, -0.0, 0.0],\n",
       " 'ntu_night_13': [106.78, -73.91, -4.15, 57.0, -0.0, 0.0]}"
      ]
     },
     "execution_count": 3,
     "metadata": {},
     "output_type": "execute_result"
    }
   ],
   "source": [
    "T_Lprior_L0 = { 'ntu_day_01'  : [ 49.28,   107.38,  7.58,  -41,  0, 0],\n",
    "                'ntu_day_02'  : [ 61.99,   119.58,  7.69,  -134, 0, 0],\n",
    "                'ntu_day_03'  : [ 62.82,   119.51,  7.70,   39,  0, 0],\n",
    "                'ntu_day_04'  : [ 55.52,   110.70,  7.72,  -40,  0, 0],\n",
    "                'ntu_day_05'  : [ 59.18,   116.06,  7.72,   42,  0, 0],\n",
    "                'ntu_day_06'  : [ 48.67,   109.16,  7.64,  -28,  0, 0],\n",
    "                'ntu_day_07'  : [-27.11,  -1.57,    8.73,  -8,   0, 0],\n",
    "                'ntu_day_08'  : [ 40.58,   15.90,   6.56,   48,  0, 0],\n",
    "                'ntu_day_09'  : [ 71.90,   57.99,   7.67,   80,  0, 0],\n",
    "                'ntu_day_10'  : [ 39.49,   23.48,   6.54,   36,  0, 0],\n",
    "                'ntu_night_01': [ 59.69,   108.43,  7.82,  -36,  0, 0],\n",
    "                'ntu_night_02': [ 55.78,   108.37,  7.78,  -32,  0, 0],\n",
    "                'ntu_night_03': [ 143.28,  36.80,   8.97,  -136, 0, 0],\n",
    "                'ntu_night_04': [ 244.20, -99.86,   5.97,  -32,  0, 0],\n",
    "                'ntu_night_05': [ 85.37,   73.99,   7.77,  -132, 0, 0],\n",
    "                'ntu_night_06': [ 46.02,   21.03,   6.6,   -135, 0, 0],\n",
    "                'ntu_night_07': [ 55.97,   112.70,  7.75,  -36,  0, 0],\n",
    "                'ntu_night_08': [ 195.74, -8.57,    7.18,   135, 0, 0],\n",
    "                'ntu_night_09': [ 234.26, -41.31,   6.69,  -107, 0, 0],\n",
    "                'ntu_night_10': [ 194.55, -216.91, -3.69,   176, 0, 0],\n",
    "                'ntu_night_11': [ 15.34,  -197.79, -4.99,   124, 0, 0],\n",
    "                'ntu_night_12': [ 60.77,  -45.23,   2.2,   -139, 0, 0],\n",
    "                'ntu_night_13': [ 81.38,  -18.45,   3.43,   42,  0, 0]}\n",
    "\n",
    "tq0 = T_Lprior_L0['ntu_day_01']\n",
    "T0 = util.Rt2Tf(util.eul2rotm(tq0[3]*np.pi/180, tq0[4]*np.pi/180, tq0[5]*np.pi/180), np.array([tq0[0], tq0[1], tq0[2]]).reshape(3, 1))\n",
    "T0inv = util.tfinv(T0)\n",
    "\n",
    "T_L0_Lx = {}\n",
    "\n",
    "for seq in T_Lprior_L0:\n",
    "\n",
    "    tqx = T_Lprior_L0[seq]\n",
    "    Tx = util.Rt2Tf(util.eul2rotm(tqx[3]*np.pi/180, tqx[4]*np.pi/180, tqx[5]*np.pi/180), np.array([tqx[0], tqx[1], tqx[2]]).reshape(3, 1))\n",
    "    T_0_x = util.tfmult(T0inv, Tx)\n",
    "\n",
    "    eul_0_x = np.round(np.round(util.rotm2eul(T_0_x[0:3, 0:3]), decimals=0)/np.pi*180)\n",
    "    xyz_0_x = np.round(T_0_x[0:3,   3], decimals=2)\n",
    "\n",
    "    T_L0_Lx[seq] = [xyz_0_x[0], xyz_0_x[1], xyz_0_x[2], eul_0_x[0], eul_0_x[1], eul_0_x[2]]\n",
    "\n",
    "T_L0_Lx\n",
    "\n"
   ]
  },
  {
   "cell_type": "code",
   "execution_count": 6,
   "metadata": {},
   "outputs": [],
   "source": [
    "init = {\n",
    " 'ntu_day_01'   : [0.0, 0.0, 0.0, 0.0, -0.0, 0.0],\n",
    " 'ntu_day_02'   : [-10.61, -14.06, 0.11, 1.0, -0.0, 0.0],\n",
    " 'ntu_day_03'   : [-11.44, -14.12, 0.12, -2.0, -0.0, 0.0],\n",
    " 'ntu_day_04'   : [-5.63, -4.27, 0.14, 1.0, -0.0, 0.0],\n",
    " 'ntu_day_05'   : [-8.4, -10.14, 0.14, 1.0, -0.0, 0.0],\n",
    " 'ntu_day_06'   : [0.88, -1.66, 0.06, 0.0, -0.0, 0.0],\n",
    " 'ntu_day_07'   : [58.14, 119.69, 1.15, 2.0, -0.0, 0.0],\n",
    " 'ntu_day_08'   : [-5.92, 91.7, -1.02, 1.0, -0.0, 0.0],\n",
    " 'ntu_day_09'   : [-30.17, 45.18, 0.09, 2.0, -0.0, 0.0],\n",
    " 'ntu_day_10'   : [-3.64, 84.39, -1.04, 2.0, -0.0, 0.0],\n",
    " 'ntu_night_01' : [-10.11, -2.69, 0.24, -1.0, -0.0, 0.0],\n",
    " 'ntu_night_02' : [-6.26, -2.01, 0.2, 3.0, -0.0, 0.0],\n",
    " 'ntu_night_03' : [-104.01, 54.78, 1.39, -1.0, -0.0, 0.0],\n",
    " 'ntu_night_04' : [-225.33, 173.7, -1.61, 3.0, -0.0, 0.0],\n",
    " 'ntu_night_05' : [-40.93, 27.24, 0.19, -3.0, -0.0, 0.0],\n",
    " 'ntu_night_06' : [-10.48, 85.77, -0.98, 0.0, -0.0, 0.0],\n",
    " 'ntu_night_07' : [-5.76, -6.31, 0.17, -1.0, -0.0, 0.0],\n",
    " 'ntu_night_08' : [-163.0, 91.25, -0.4, 0.0, -0.0, 0.0],\n",
    " 'ntu_night_09' : [-206.22, 117.47, -0.89, 3.0, -0.0, 0.0],\n",
    " 'ntu_night_10' : [-194.87, 297.14, -11.27, -3.0, -0.0, 0.0],\n",
    " 'ntu_night_11' : [-14.9, 306.69, -12.57, 2.0, -0.0, 0.0],\n",
    " 'ntu_night_12' : [-35.55, 148.86, -5.38, 3.0, -0.0, 0.0],\n",
    " 'ntu_night_13' : [-51.65, 119.15, -4.15, 1.0, -0.0, 0.0]}"
   ]
  },
  {
   "cell_type": "code",
   "execution_count": 10,
   "metadata": {},
   "outputs": [
    {
     "name": "stdout",
     "output_type": "stream",
     "text": [
      "[[-1.        0.        0.       -0.006253]\n",
      " [ 0.       -1.        0.        0.011775]\n",
      " [ 0.        0.        1.        0.028535]\n",
      " [ 0.        0.        0.        1.      ]]\n"
     ]
    }
   ],
   "source": [
    "# Transforms from ouster extrinsics\n",
    "\n",
    "T_S_L = np.array([[-1,  0,  0,  0],\n",
    "                  [ 0, -1,  0,  0],\n",
    "                  [ 0,  0,  1,  0.03618],\n",
    "                  [ 0,  0,  0,  1]])\n",
    "\n",
    "T_S_I = np.array([[ 1,  0,  0,  0.006253],\n",
    "                  [ 0,  1,  0, -0.011775],\n",
    "                  [ 0,  0,  1,  0.007645],\n",
    "                  [ 0,  0,  0,  1]])\n",
    "\n",
    "T_I_L = util.tfmult(util.tfinv(T_S_I), T_S_L)\n",
    "\n",
    "print(T_I_L)"
   ]
  }
 ],
 "metadata": {
  "kernelspec": {
   "display_name": "Python 3",
   "language": "python",
   "name": "python3"
  },
  "language_info": {
   "codemirror_mode": {
    "name": "ipython",
    "version": 3
   },
   "file_extension": ".py",
   "mimetype": "text/x-python",
   "name": "python",
   "nbconvert_exporter": "python",
   "pygments_lexer": "ipython3",
   "version": "3.10.13"
  }
 },
 "nbformat": 4,
 "nbformat_minor": 2
}
